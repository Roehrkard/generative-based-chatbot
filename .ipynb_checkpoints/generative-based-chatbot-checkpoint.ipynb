{
 "cells": [
  {
   "cell_type": "markdown",
   "id": "f245c30d",
   "metadata": {},
   "source": [
    "## 1. Imports"
   ]
  },
  {
   "cell_type": "code",
   "execution_count": 47,
   "id": "af5953eb",
   "metadata": {},
   "outputs": [
    {
     "name": "stderr",
     "output_type": "stream",
     "text": [
      "Some weights of the model checkpoint at bert-large-uncased-whole-word-masking-finetuned-squad were not used when initializing BertForQuestionAnswering: ['bert.pooler.dense.bias', 'bert.pooler.dense.weight']\n",
      "- This IS expected if you are initializing BertForQuestionAnswering from the checkpoint of a model trained on another task or with another architecture (e.g. initializing a BertForSequenceClassification model from a BertForPreTraining model).\n",
      "- This IS NOT expected if you are initializing BertForQuestionAnswering from the checkpoint of a model that you expect to be exactly identical (initializing a BertForSequenceClassification model from a BertForSequenceClassification model).\n"
     ]
    },
    {
     "data": {
      "application/vnd.jupyter.widget-view+json": {
       "model_id": "73312d2a145941a0a8ddb4965d3ad315",
       "version_major": 2,
       "version_minor": 0
      },
      "text/plain": [
       "Text(value='', description='You:', placeholder='Type your question here...')"
      ]
     },
     "metadata": {},
     "output_type": "display_data"
    },
    {
     "data": {
      "application/vnd.jupyter.widget-view+json": {
       "model_id": "65a3a6b266684c37ae52d64229383a98",
       "version_major": 2,
       "version_minor": 0
      },
      "text/plain": [
       "Output()"
      ]
     },
     "metadata": {},
     "output_type": "display_data"
    }
   ],
   "source": [
    "import json\n",
    "import logging\n",
    "import torch\n",
    "from flask import Flask, jsonify\n",
    "from transformers import BertTokenizer, BertForQuestionAnswering\n",
    "from sentence_transformers import SentenceTransformer, util\n",
    "import ipywidgets as widgets\n",
    "from IPython.display import display, clear_output\n",
    "\n",
    "# Set up logging\n",
    "logging.basicConfig(level=logging.INFO)\n",
    "\n",
    "# Load the SQuAD v2.0 dataset\n",
    "with open('train-v2.0.json', 'r') as f:\n",
    "    data = json.load(f)\n",
    "\n",
    "# Extract contexts from the dataset\n",
    "contexts = []\n",
    "for article in data['data']:\n",
    "    for paragraph in article['paragraphs']:\n",
    "        contexts.append(paragraph['context'])\n",
    "\n",
    "# Load pre-trained BERT model and tokenizer for QA\n",
    "tokenizer = BertTokenizer.from_pretrained('bert-large-uncased-whole-word-masking-finetuned-squad')\n",
    "model = BertForQuestionAnswering.from_pretrained('bert-large-uncased-whole-word-masking-finetuned-squad')\n",
    "\n",
    "# Load SBERT model for improved context matching\n",
    "sbert_model = SentenceTransformer('all-MiniLM-L6-v2')\n",
    "\n",
    "# Encode all contexts using SBERT for fast similarity search\n",
    "context_embeddings = sbert_model.encode(contexts, convert_to_tensor=True)\n",
    "\n",
    "def find_best_context(question):\n",
    "    \"\"\"Find the most relevant context using SBERT-based cosine similarity.\"\"\"\n",
    "    question_embedding = sbert_model.encode(question, convert_to_tensor=True)\n",
    "    similarities = util.pytorch_cos_sim(question_embedding, context_embeddings).flatten()\n",
    "    best_index = similarities.argmax().item()\n",
    "    return contexts[best_index], similarities[best_index].item()  # Return context and its similarity score\n",
    "\n",
    "def generate_answer(question, context):\n",
    "    \"\"\"Generate an answer using the BERT QA model.\"\"\"\n",
    "    inputs = tokenizer(question, context, return_tensors='pt')\n",
    "    input_ids = inputs['input_ids'].tolist()[0]\n",
    "\n",
    "    # Get the model outputs (start and end logits)\n",
    "    outputs = model(**inputs)\n",
    "    answer_start_scores = outputs.start_logits\n",
    "    answer_end_scores = outputs.end_logits\n",
    "\n",
    "    # Find the most likely start and end of the answer span\n",
    "    answer_start = torch.argmax(answer_start_scores)\n",
    "    answer_end = torch.argmax(answer_end_scores) + 1\n",
    "\n",
    "    # Confidence threshold\n",
    "    confidence_threshold = 0.4  # Lowered to allow more responses\n",
    "\n",
    "    # Check if the answer is valid\n",
    "    start_score = answer_start_scores[0, answer_start].item()\n",
    "    if start_score < confidence_threshold:\n",
    "        return \"I'm not confident about the answer. Can you please ask differently?\"\n",
    "\n",
    "    # Ensure that the end index is greater than the start index\n",
    "    if answer_end <= answer_start:\n",
    "        return \"I'm sorry, but I couldn't find an answer in the context provided.\"\n",
    "\n",
    "    answer = tokenizer.convert_tokens_to_string(\n",
    "        tokenizer.convert_ids_to_tokens(input_ids[answer_start:answer_end])\n",
    "    )\n",
    "    \n",
    "    # Check for coherence of the answer\n",
    "    if not answer.strip():  # If the answer is empty\n",
    "        return \"I'm sorry, but I couldn't find an answer in the context provided.\"\n",
    "    \n",
    "    return answer\n",
    "\n",
    "# Create a simple chat interface using ipywidgets\n",
    "def chat_with_bot():\n",
    "    output = widgets.Output()\n",
    "    question_input = widgets.Text(\n",
    "        description='You:',\n",
    "        placeholder='Type your question here...'\n",
    "    )\n",
    "    \n",
    "    display(question_input, output)\n",
    "    \n",
    "    def on_submit(change):\n",
    "        user_input = change['new']\n",
    "        if not user_input.strip():\n",
    "            return\n",
    "        \n",
    "        # Find the most relevant context and its similarity score\n",
    "        context, similarity_score = find_best_context(user_input)\n",
    "        logging.info(f\"User question: {user_input} | Best context similarity: {similarity_score:.2f}\")\n",
    "\n",
    "        # Generate the answer\n",
    "        answer = generate_answer(user_input, context)\n",
    "\n",
    "        # Clear the output and display the interaction\n",
    "        with output:\n",
    "            clear_output(wait=True)\n",
    "            print(f\"You: {user_input}\")\n",
    "            print(f\"Bot: {answer}\")\n",
    "        \n",
    "        # Clear the input for the next question\n",
    "        question_input.value = ''\n",
    "    \n",
    "    question_input.observe(on_submit, names='value')\n",
    "\n",
    "# Start the chat interface\n",
    "chat_with_bot()\n"
   ]
  },
  {
   "cell_type": "code",
   "execution_count": null,
   "id": "1584fad1",
   "metadata": {},
   "outputs": [],
   "source": []
  }
 ],
 "metadata": {
  "kernelspec": {
   "display_name": "Python (myenv)",
   "language": "python",
   "name": "myenv"
  },
  "language_info": {
   "codemirror_mode": {
    "name": "ipython",
    "version": 3
   },
   "file_extension": ".py",
   "mimetype": "text/x-python",
   "name": "python",
   "nbconvert_exporter": "python",
   "pygments_lexer": "ipython3",
   "version": "3.9.6"
  }
 },
 "nbformat": 4,
 "nbformat_minor": 5
}
